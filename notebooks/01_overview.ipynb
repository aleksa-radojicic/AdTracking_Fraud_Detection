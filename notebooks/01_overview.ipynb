{
 "cells": [
  {
   "cell_type": "code",
   "execution_count": 1,
   "id": "3a657001",
   "metadata": {},
   "outputs": [],
   "source": [
    "# data.sink_parquet(train_fp_out, compression='uncompressed')"
   ]
  },
  {
   "cell_type": "code",
   "execution_count": 2,
   "id": "d66d000f",
   "metadata": {},
   "outputs": [],
   "source": [
    "import os\n",
    "\n",
    "os.chdir(\"..\")"
   ]
  },
  {
   "cell_type": "code",
   "execution_count": null,
   "id": "1511b952",
   "metadata": {},
   "outputs": [],
   "source": [
    "import polars as pl\n",
    "\n",
    "from src.datatypes import BaseSchema, Filepaths, TrainSchema, TestSchema"
   ]
  },
  {
   "cell_type": "code",
   "execution_count": 4,
   "id": "cc02c3a0",
   "metadata": {},
   "outputs": [],
   "source": [
    "filepaths = Filepaths()\n",
    "\n",
    "# Alias\n",
    "TS = TrainSchema\n",
    "\n",
    "train_schema = BaseSchema.__annotations__ | TrainSchema.__annotations__\n",
    "test_schema = BaseSchema.__annotations__ | TrainSchema.__annotations__ | TestSchema.__annotations__"
   ]
  },
  {
   "cell_type": "code",
   "execution_count": 5,
   "id": "f4454316",
   "metadata": {},
   "outputs": [
    {
     "name": "stdout",
     "output_type": "stream",
     "text": [
      "n_rows = 184903890\n",
      "n_rows_test = 18790469\n",
      "\n",
      "n_null_values = shape: (1, 8)\n",
      "┌─────┬─────┬────────┬─────┬─────────┬────────────┬─────────────────┬───────────────┐\n",
      "│ ip  ┆ app ┆ device ┆ os  ┆ channel ┆ click_time ┆ attributed_time ┆ is_attributed │\n",
      "│ --- ┆ --- ┆ ---    ┆ --- ┆ ---     ┆ ---        ┆ ---             ┆ ---           │\n",
      "│ u32 ┆ u32 ┆ u32    ┆ u32 ┆ u32     ┆ u32        ┆ u32             ┆ u32           │\n",
      "╞═════╪═════╪════════╪═════╪═════════╪════════════╪═════════════════╪═══════════════╡\n",
      "│ 0   ┆ 0   ┆ 0      ┆ 0   ┆ 0       ┆ 0          ┆ 184447044       ┆ 0             │\n",
      "└─────┴─────┴────────┴─────┴─────────┴────────────┴─────────────────┴───────────────┘\n",
      "\n",
      "n_duplicates = 3619254\n"
     ]
    }
   ],
   "source": [
    "data = TrainSchema.validate(pl.scan_parquet(filepaths.train, schema=train_schema))\n",
    "test = TestSchema.validate(pl.scan_csv(filepaths.test, schema=test_schema))\n",
    "\n",
    "n_rows: int = data.select(pl.len()).collect()[\"len\"][0]\n",
    "print(f\"{n_rows = }\")\n",
    "\n",
    "n_rows_test: int = test.select(pl.len()).collect()[\"len\"][0]\n",
    "print(f\"{n_rows_test = }\")\n",
    "print()\n",
    "\n",
    "n_null_values = data.null_count().collect()\n",
    "print(f\"{n_null_values = }\")\n",
    "print()\n",
    "\n",
    "n_unique_rows: int = data.unique().select(pl.len()).collect(engine=\"streaming\")[\"len\"][0]\n",
    "n_duplicates: int = n_rows - n_unique_rows\n",
    "\n",
    "print(f\"{n_duplicates = }\")"
   ]
  },
  {
   "cell_type": "markdown",
   "id": "b7781060",
   "metadata": {},
   "source": [
    "Drop duplicate rows"
   ]
  },
  {
   "cell_type": "code",
   "execution_count": null,
   "id": "72c3bff2",
   "metadata": {},
   "outputs": [],
   "source": [
    "data = data.unique()\n",
    "data.sink_parquet(filepaths.train_unique, compression='uncompressed')"
   ]
  }
 ],
 "metadata": {
  "kernelspec": {
   "display_name": "adtracking-fraud-detection",
   "language": "python",
   "name": "python3"
  },
  "language_info": {
   "codemirror_mode": {
    "name": "ipython",
    "version": 3
   },
   "file_extension": ".py",
   "mimetype": "text/x-python",
   "name": "python",
   "nbconvert_exporter": "python",
   "pygments_lexer": "ipython3",
   "version": "3.13.3"
  }
 },
 "nbformat": 4,
 "nbformat_minor": 5
}
