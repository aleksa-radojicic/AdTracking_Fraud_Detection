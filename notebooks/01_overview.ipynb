{
 "cells": [
  {
   "cell_type": "code",
   "execution_count": 1,
   "id": "3a657001",
   "metadata": {},
   "outputs": [],
   "source": [
    "# data.sink_parquet(train_fp_out, compression='uncompressed')"
   ]
  },
  {
   "cell_type": "code",
   "execution_count": 2,
   "id": "d66d000f",
   "metadata": {},
   "outputs": [],
   "source": [
    "import os\n",
    "\n",
    "os.chdir(\"..\")"
   ]
  },
  {
   "cell_type": "code",
   "execution_count": 3,
   "id": "1511b952",
   "metadata": {},
   "outputs": [],
   "source": [
    "from pathlib import Path\n",
    "\n",
    "import polars as pl\n",
    "\n",
    "from src.datatypes import BaseSchema, Filepaths, TestSchema, TrainSchema"
   ]
  },
  {
   "cell_type": "code",
   "execution_count": 4,
   "id": "cc02c3a0",
   "metadata": {},
   "outputs": [],
   "source": [
    "filepaths = Filepaths()\n",
    "\n",
    "# Alias\n",
    "TS = TrainSchema\n",
    "\n",
    "train_schema = BaseSchema.__annotations__ | TrainSchema.__annotations__\n",
    "test_schema = BaseSchema.__annotations__  | TestSchema.__annotations__"
   ]
  },
  {
   "cell_type": "code",
   "execution_count": 5,
   "id": "18879f9f",
   "metadata": {},
   "outputs": [],
   "source": [
    "# Save test data to parquet\n",
    "test_fp_in = Path(\"~/Projects/AdTracking_Fraud_Detection/data/test.csv\")\n",
    "test_fp_out = Path(\"~/Projects/AdTracking_Fraud_Detection/data/test.parquet\")\n",
    "\n",
    "test_csv = pl.read_csv(test_fp_in)\n",
    "test_csv = test_csv.with_columns(pl.col(TS.click_time).str.to_datetime())\n",
    "test_csv = test_csv.cast(test_schema)\n",
    "test_csv.write_parquet(test_fp_out, compression='uncompressed')"
   ]
  },
  {
   "cell_type": "code",
   "execution_count": 6,
   "id": "f4454316",
   "metadata": {},
   "outputs": [
    {
     "name": "stdout",
     "output_type": "stream",
     "text": [
      "n_rows = 184903890\n",
      "n_rows_test = 18790469\n",
      "\n",
      "n_null_values = shape: (1, 8)\n",
      "┌─────┬─────┬────────┬─────┬─────────┬────────────┬─────────────────┬───────────────┐\n",
      "│ ip  ┆ app ┆ device ┆ os  ┆ channel ┆ click_time ┆ attributed_time ┆ is_attributed │\n",
      "│ --- ┆ --- ┆ ---    ┆ --- ┆ ---     ┆ ---        ┆ ---             ┆ ---           │\n",
      "│ u32 ┆ u32 ┆ u32    ┆ u32 ┆ u32     ┆ u32        ┆ u32             ┆ u32           │\n",
      "╞═════╪═════╪════════╪═════╪═════════╪════════════╪═════════════════╪═══════════════╡\n",
      "│ 0   ┆ 0   ┆ 0      ┆ 0   ┆ 0       ┆ 0          ┆ 184447044       ┆ 0             │\n",
      "└─────┴─────┴────────┴─────┴─────────┴────────────┴─────────────────┴───────────────┘\n",
      "\n",
      "n_duplicates = 3619254\n"
     ]
    }
   ],
   "source": [
    "data = TrainSchema.validate(pl.scan_parquet(filepaths.train, schema=train_schema, cast_options=pl.ScanCastOptions(integer_cast='upcast')))\n",
    "test = TestSchema.validate(pl.scan_parquet(filepaths.test))\n",
    "\n",
    "n_rows: int = data.select(pl.len()).collect()[\"len\"][0]\n",
    "print(f\"{n_rows = }\")\n",
    "\n",
    "n_rows_test: int = test.select(pl.len()).collect()[\"len\"][0]\n",
    "print(f\"{n_rows_test = }\")\n",
    "print()\n",
    "\n",
    "n_null_values = data.null_count().collect()\n",
    "print(f\"{n_null_values = }\")\n",
    "print()\n",
    "\n",
    "n_unique_rows: int = data.unique().select(pl.len()).collect(engine=\"streaming\")[\"len\"][0]\n",
    "n_duplicates: int = n_rows - n_unique_rows\n",
    "\n",
    "print(f\"{n_duplicates = }\")"
   ]
  },
  {
   "cell_type": "markdown",
   "id": "b7781060",
   "metadata": {},
   "source": [
    "Drop duplicate rows"
   ]
  },
  {
   "cell_type": "code",
   "execution_count": null,
   "id": "72c3bff2",
   "metadata": {},
   "outputs": [],
   "source": [
    "data = data.unique()\n",
    "data.sink_parquet(filepaths.train_unique, compression='uncompressed')"
   ]
  },
  {
   "cell_type": "markdown",
   "id": "d87c5a70",
   "metadata": {},
   "source": [
    "# Is test set in the future?"
   ]
  },
  {
   "cell_type": "code",
   "execution_count": null,
   "id": "f58ed34a",
   "metadata": {},
   "outputs": [
    {
     "name": "stdout",
     "output_type": "stream",
     "text": [
      "max_click_time_train = shape: (1, 1)\n",
      "┌─────────────────────┐\n",
      "│ click_time          │\n",
      "│ ---                 │\n",
      "│ datetime[μs]        │\n",
      "╞═════════════════════╡\n",
      "│ 2017-11-09 16:00:00 │\n",
      "└─────────────────────┘\n",
      "\n",
      "max_click_time_test = shape: (1, 1)\n",
      "┌─────────────────────┐\n",
      "│ click_time          │\n",
      "│ ---                 │\n",
      "│ datetime[μs]        │\n",
      "╞═════════════════════╡\n",
      "│ 2017-11-10 04:00:00 │\n",
      "└─────────────────────┘\n",
      "\n",
      "is_test_set_in_future = True\n"
     ]
    }
   ],
   "source": [
    "max_click_time_train = data.select(pl.col(TS.click_time).max())\n",
    "print(f\"{max_click_time_train = }\")\n",
    "print()\n",
    "\n",
    "max_click_time_test = test.select(pl.col(TS.click_time).min())\n",
    "print(f\"{max_click_time_test = }\")\n",
    "print()\n",
    "\n",
    "is_test_set_in_future = (max_click_time_test > max_click_time_train).row(0)[0]\n",
    "print(f\"{is_test_set_in_future = }\")"
   ]
  },
  {
   "cell_type": "markdown",
   "id": "2946ca3d",
   "metadata": {},
   "source": [
    "Yes, indeed. Based on this piece of info train & evaluation set will be split."
   ]
  }
 ],
 "metadata": {
  "kernelspec": {
   "display_name": "adtracking-fraud-detection",
   "language": "python",
   "name": "python3"
  },
  "language_info": {
   "codemirror_mode": {
    "name": "ipython",
    "version": 3
   },
   "file_extension": ".py",
   "mimetype": "text/x-python",
   "name": "python",
   "nbconvert_exporter": "python",
   "pygments_lexer": "ipython3",
   "version": "3.13.3"
  }
 },
 "nbformat": 4,
 "nbformat_minor": 5
}
