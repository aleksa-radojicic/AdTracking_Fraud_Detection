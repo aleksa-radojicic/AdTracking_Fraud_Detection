{
 "cells": [
  {
   "cell_type": "code",
   "execution_count": 1,
   "id": "ec77106d",
   "metadata": {},
   "outputs": [],
   "source": [
    "import os\n",
    "\n",
    "os.chdir(\"..\")"
   ]
  },
  {
   "cell_type": "code",
   "execution_count": 2,
   "id": "30459bab",
   "metadata": {},
   "outputs": [
    {
     "name": "stderr",
     "output_type": "stream",
     "text": [
      "/home/aleksa/Projects/AdTracking_Fraud_Detection/.venv/lib/python3.13/site-packages/pandera/__init__.py:40: UserWarning: Pandas and numpy have been removed from the base pandera\n",
      "dependencies. Please install pandas as part of your environment's\n",
      "dependencies or install the pandas extra with:\n",
      "\n",
      "```bash\n",
      "pip install pandas pandera\n",
      "\n",
      "# or\n",
      "pip install 'pandera[pandas]'\n",
      "```\n",
      "\n",
      "  warnings.warn(_warning_msg, UserWarning)\n"
     ]
    }
   ],
   "source": [
    "import polars as pl\n",
    "\n",
    "from src.constants import TRAIN_SAMPLE_SIZE\n",
    "from src.datatypes import BaseSchema, TrainSchema, filepaths"
   ]
  },
  {
   "cell_type": "code",
   "execution_count": 3,
   "id": "ee64cc98",
   "metadata": {},
   "outputs": [],
   "source": [
    "# Alias\n",
    "S = TrainSchema\n",
    "\n",
    "train_schema = BaseSchema.__annotations__ | TrainSchema.__annotations__"
   ]
  },
  {
   "cell_type": "markdown",
   "id": "7d4b02c3",
   "metadata": {},
   "source": [
    "# Load only first 10 million rows subset"
   ]
  },
  {
   "cell_type": "code",
   "execution_count": 4,
   "id": "bf3a39d2",
   "metadata": {},
   "outputs": [],
   "source": [
    "data = TrainSchema.validate(\n",
    "    pl.scan_parquet(filepaths.train_unique, schema=train_schema).head(TRAIN_SAMPLE_SIZE)\n",
    ").collect()\n",
    "data_lf = data.lazy()"
   ]
  },
  {
   "cell_type": "code",
   "execution_count": 5,
   "id": "5033e9e8",
   "metadata": {},
   "outputs": [
    {
     "data": {
      "text/html": [
       "<div><style>\n",
       ".dataframe > thead > tr,\n",
       ".dataframe > tbody > tr {\n",
       "  text-align: right;\n",
       "  white-space: pre-wrap;\n",
       "}\n",
       "</style>\n",
       "<small>shape: (9, 9)</small><table border=\"1\" class=\"dataframe\"><thead><tr><th>statistic</th><th>ip</th><th>app</th><th>device</th><th>os</th><th>channel</th><th>click_time</th><th>attributed_time</th><th>is_attributed</th></tr><tr><td>str</td><td>f64</td><td>f64</td><td>f64</td><td>f64</td><td>f64</td><td>str</td><td>str</td><td>f64</td></tr></thead><tbody><tr><td>&quot;count&quot;</td><td>1e7</td><td>1e7</td><td>1e7</td><td>1e7</td><td>1e7</td><td>&quot;10000000&quot;</td><td>&quot;25201&quot;</td><td>1e7</td></tr><tr><td>&quot;null_count&quot;</td><td>0.0</td><td>0.0</td><td>0.0</td><td>0.0</td><td>0.0</td><td>&quot;0&quot;</td><td>&quot;9974799&quot;</td><td>0.0</td></tr><tr><td>&quot;mean&quot;</td><td>90824.024609</td><td>12.020038</td><td>22.144052</td><td>22.782861</td><td>269.257614</td><td>&quot;2017-11-08 06:11:25.904391&quot;</td><td>&quot;2017-11-08 07:31:28.115432&quot;</td><td>0.0025201</td></tr><tr><td>&quot;std&quot;</td><td>69385.4866</td><td>14.908403</td><td>261.816785</td><td>55.71075</td><td>130.170144</td><td>null</td><td>null</td><td>null</td></tr><tr><td>&quot;min&quot;</td><td>1.0</td><td>0.0</td><td>0.0</td><td>0.0</td><td>0.0</td><td>&quot;2017-11-06 16:00:01&quot;</td><td>&quot;2017-11-06 16:01:13&quot;</td><td>0.0</td></tr><tr><td>&quot;25%&quot;</td><td>40216.0</td><td>3.0</td><td>1.0</td><td>13.0</td><td>140.0</td><td>&quot;2017-11-07 11:07:03&quot;</td><td>&quot;2017-11-07 11:51:31&quot;</td><td>null</td></tr><tr><td>&quot;50%&quot;</td><td>79665.0</td><td>12.0</td><td>1.0</td><td>18.0</td><td>258.0</td><td>&quot;2017-11-08 06:48:36&quot;</td><td>&quot;2017-11-08 08:02:57&quot;</td><td>null</td></tr><tr><td>&quot;75%&quot;</td><td>118252.0</td><td>15.0</td><td>1.0</td><td>19.0</td><td>386.0</td><td>&quot;2017-11-09 01:53:50&quot;</td><td>&quot;2017-11-09 04:14:50&quot;</td><td>null</td></tr><tr><td>&quot;max&quot;</td><td>364776.0</td><td>768.0</td><td>4227.0</td><td>914.0</td><td>498.0</td><td>&quot;2017-11-09 16:00:00&quot;</td><td>&quot;2017-11-09 15:59:51&quot;</td><td>1.0</td></tr></tbody></table></div>"
      ],
      "text/plain": [
       "shape: (9, 9)\n",
       "┌───────────┬───────────┬───────────┬───────────┬───┬───────────┬───────────┬───────────┬──────────┐\n",
       "│ statistic ┆ ip        ┆ app       ┆ device    ┆ … ┆ channel   ┆ click_tim ┆ attribute ┆ is_attri │\n",
       "│ ---       ┆ ---       ┆ ---       ┆ ---       ┆   ┆ ---       ┆ e         ┆ d_time    ┆ buted    │\n",
       "│ str       ┆ f64       ┆ f64       ┆ f64       ┆   ┆ f64       ┆ ---       ┆ ---       ┆ ---      │\n",
       "│           ┆           ┆           ┆           ┆   ┆           ┆ str       ┆ str       ┆ f64      │\n",
       "╞═══════════╪═══════════╪═══════════╪═══════════╪═══╪═══════════╪═══════════╪═══════════╪══════════╡\n",
       "│ count     ┆ 1e7       ┆ 1e7       ┆ 1e7       ┆ … ┆ 1e7       ┆ 10000000  ┆ 25201     ┆ 1e7      │\n",
       "│ null_coun ┆ 0.0       ┆ 0.0       ┆ 0.0       ┆ … ┆ 0.0       ┆ 0         ┆ 9974799   ┆ 0.0      │\n",
       "│ t         ┆           ┆           ┆           ┆   ┆           ┆           ┆           ┆          │\n",
       "│ mean      ┆ 90824.024 ┆ 12.020038 ┆ 22.144052 ┆ … ┆ 269.25761 ┆ 2017-11-0 ┆ 2017-11-0 ┆ 0.002520 │\n",
       "│           ┆ 609       ┆           ┆           ┆   ┆ 4         ┆ 8 06:11:2 ┆ 8 07:31:2 ┆ 1        │\n",
       "│           ┆           ┆           ┆           ┆   ┆           ┆ 5.904391  ┆ 8.115432  ┆          │\n",
       "│ std       ┆ 69385.486 ┆ 14.908403 ┆ 261.81678 ┆ … ┆ 130.17014 ┆ null      ┆ null      ┆ null     │\n",
       "│           ┆ 6         ┆           ┆ 5         ┆   ┆ 4         ┆           ┆           ┆          │\n",
       "│ min       ┆ 1.0       ┆ 0.0       ┆ 0.0       ┆ … ┆ 0.0       ┆ 2017-11-0 ┆ 2017-11-0 ┆ 0.0      │\n",
       "│           ┆           ┆           ┆           ┆   ┆           ┆ 6         ┆ 6         ┆          │\n",
       "│           ┆           ┆           ┆           ┆   ┆           ┆ 16:00:01  ┆ 16:01:13  ┆          │\n",
       "│ 25%       ┆ 40216.0   ┆ 3.0       ┆ 1.0       ┆ … ┆ 140.0     ┆ 2017-11-0 ┆ 2017-11-0 ┆ null     │\n",
       "│           ┆           ┆           ┆           ┆   ┆           ┆ 7         ┆ 7         ┆          │\n",
       "│           ┆           ┆           ┆           ┆   ┆           ┆ 11:07:03  ┆ 11:51:31  ┆          │\n",
       "│ 50%       ┆ 79665.0   ┆ 12.0      ┆ 1.0       ┆ … ┆ 258.0     ┆ 2017-11-0 ┆ 2017-11-0 ┆ null     │\n",
       "│           ┆           ┆           ┆           ┆   ┆           ┆ 8         ┆ 8         ┆          │\n",
       "│           ┆           ┆           ┆           ┆   ┆           ┆ 06:48:36  ┆ 08:02:57  ┆          │\n",
       "│ 75%       ┆ 118252.0  ┆ 15.0      ┆ 1.0       ┆ … ┆ 386.0     ┆ 2017-11-0 ┆ 2017-11-0 ┆ null     │\n",
       "│           ┆           ┆           ┆           ┆   ┆           ┆ 9         ┆ 9         ┆          │\n",
       "│           ┆           ┆           ┆           ┆   ┆           ┆ 01:53:50  ┆ 04:14:50  ┆          │\n",
       "│ max       ┆ 364776.0  ┆ 768.0     ┆ 4227.0    ┆ … ┆ 498.0     ┆ 2017-11-0 ┆ 2017-11-0 ┆ 1.0      │\n",
       "│           ┆           ┆           ┆           ┆   ┆           ┆ 9         ┆ 9         ┆          │\n",
       "│           ┆           ┆           ┆           ┆   ┆           ┆ 16:00:00  ┆ 15:59:51  ┆          │\n",
       "└───────────┴───────────┴───────────┴───────────┴───┴───────────┴───────────┴───────────┴──────────┘"
      ]
     },
     "execution_count": 5,
     "metadata": {},
     "output_type": "execute_result"
    }
   ],
   "source": [
    "data.describe()"
   ]
  },
  {
   "cell_type": "code",
   "execution_count": 6,
   "id": "7efd0b41",
   "metadata": {},
   "outputs": [
    {
     "data": {
      "text/html": [
       "<div><style>\n",
       ".dataframe > thead > tr,\n",
       ".dataframe > tbody > tr {\n",
       "  text-align: right;\n",
       "  white-space: pre-wrap;\n",
       "}\n",
       "</style>\n",
       "<small>shape: (1, 2)</small><table border=\"1\" class=\"dataframe\"><thead><tr><th>attributed_time</th><th>attributed_time_relative</th></tr><tr><td>u32</td><td>f64</td></tr></thead><tbody><tr><td>25201</td><td>0.0025201</td></tr></tbody></table></div>"
      ],
      "text/plain": [
       "shape: (1, 2)\n",
       "┌─────────────────┬──────────────────────────┐\n",
       "│ attributed_time ┆ attributed_time_relative │\n",
       "│ ---             ┆ ---                      │\n",
       "│ u32             ┆ f64                      │\n",
       "╞═════════════════╪══════════════════════════╡\n",
       "│ 25201           ┆ 0.0025201                │\n",
       "└─────────────────┴──────────────────────────┘"
      ]
     },
     "execution_count": 6,
     "metadata": {},
     "output_type": "execute_result"
    }
   ],
   "source": [
    "(\n",
    "    data_lf\n",
    "    .select(\n",
    "        pl.col(S.attributed_time).is_not_null().sum()\n",
    "    )\n",
    "    .with_columns(\n",
    "        S.attributed_time,\n",
    "        **{\n",
    "        f\"{S.attributed_time}_relative\": pl.col(S.attributed_time).truediv(\n",
    "            data_lf.select(pl.len()).collect().row(0)[0]\n",
    "            ),\n",
    "    })\n",
    ").collect()"
   ]
  },
  {
   "cell_type": "markdown",
   "id": "24cf1752",
   "metadata": {},
   "source": [
    "Column `attributed_time` is like a metalabel column: it has 1 correlation with label and gives additional information. It will be dropped during training, but it can be useful in EDA."
   ]
  },
  {
   "cell_type": "code",
   "execution_count": 7,
   "id": "b71fb978",
   "metadata": {},
   "outputs": [
    {
     "data": {
      "text/html": [
       "<div><style>\n",
       ".dataframe > thead > tr,\n",
       ".dataframe > tbody > tr {\n",
       "  text-align: right;\n",
       "  white-space: pre-wrap;\n",
       "}\n",
       "</style>\n",
       "<small>shape: (150_641, 2)</small><table border=\"1\" class=\"dataframe\"><thead><tr><th>ip</th><th>ip_relative</th></tr><tr><td>struct[2]</td><td>struct[2]</td></tr></thead><tbody><tr><td>{5348,67027}</td><td>{5348,0.0067027}</td></tr><tr><td>{5314,62620}</td><td>{5314,0.006262}</td></tr><tr><td>{73516,41777}</td><td>{73516,0.0041777}</td></tr><tr><td>{73487,41591}</td><td>{73487,0.0041591}</td></tr><tr><td>{53454,27054}</td><td>{53454,0.0027054}</td></tr><tr><td>&hellip;</td><td>&hellip;</td></tr><tr><td>{146547,1}</td><td>{146547,0.0000001}</td></tr><tr><td>{131889,1}</td><td>{131889,0.0000001}</td></tr><tr><td>{152610,1}</td><td>{152610,0.0000001}</td></tr><tr><td>{203274,1}</td><td>{203274,0.0000001}</td></tr><tr><td>{189645,1}</td><td>{189645,0.0000001}</td></tr></tbody></table></div>"
      ],
      "text/plain": [
       "shape: (150_641, 2)\n",
       "┌───────────────┬────────────────────┐\n",
       "│ ip            ┆ ip_relative        │\n",
       "│ ---           ┆ ---                │\n",
       "│ struct[2]     ┆ struct[2]          │\n",
       "╞═══════════════╪════════════════════╡\n",
       "│ {5348,67027}  ┆ {5348,0.0067027}   │\n",
       "│ {5314,62620}  ┆ {5314,0.006262}    │\n",
       "│ {73516,41777} ┆ {73516,0.0041777}  │\n",
       "│ {73487,41591} ┆ {73487,0.0041591}  │\n",
       "│ {53454,27054} ┆ {53454,0.0027054}  │\n",
       "│ …             ┆ …                  │\n",
       "│ {146547,1}    ┆ {146547,0.0000001} │\n",
       "│ {131889,1}    ┆ {131889,0.0000001} │\n",
       "│ {152610,1}    ┆ {152610,0.0000001} │\n",
       "│ {203274,1}    ┆ {203274,0.0000001} │\n",
       "│ {189645,1}    ┆ {189645,0.0000001} │\n",
       "└───────────────┴────────────────────┘"
      ]
     },
     "metadata": {},
     "output_type": "display_data"
    },
    {
     "name": "stdout",
     "output_type": "stream",
     "text": [
      "\n"
     ]
    },
    {
     "data": {
      "text/html": [
       "<div><style>\n",
       ".dataframe > thead > tr,\n",
       ".dataframe > tbody > tr {\n",
       "  text-align: right;\n",
       "  white-space: pre-wrap;\n",
       "}\n",
       "</style>\n",
       "<small>shape: (434, 2)</small><table border=\"1\" class=\"dataframe\"><thead><tr><th>app</th><th>app_relative</th></tr><tr><td>struct[2]</td><td>struct[2]</td></tr></thead><tbody><tr><td>{3,1822553}</td><td>{3,0.1822553}</td></tr><tr><td>{12,1290593}</td><td>{12,0.1290593}</td></tr><tr><td>{2,1183491}</td><td>{2,0.1183491}</td></tr><tr><td>{9,896596}</td><td>{9,0.0896596}</td></tr><tr><td>{15,878264}</td><td>{15,0.0878264}</td></tr><tr><td>&hellip;</td><td>&hellip;</td></tr><tr><td>{423,1}</td><td>{423,0.0000001}</td></tr><tr><td>{627,1}</td><td>{627,0.0000001}</td></tr><tr><td>{371,1}</td><td>{371,0.0000001}</td></tr><tr><td>{367,1}</td><td>{367,0.0000001}</td></tr><tr><td>{640,1}</td><td>{640,0.0000001}</td></tr></tbody></table></div>"
      ],
      "text/plain": [
       "shape: (434, 2)\n",
       "┌──────────────┬─────────────────┐\n",
       "│ app          ┆ app_relative    │\n",
       "│ ---          ┆ ---             │\n",
       "│ struct[2]    ┆ struct[2]       │\n",
       "╞══════════════╪═════════════════╡\n",
       "│ {3,1822553}  ┆ {3,0.1822553}   │\n",
       "│ {12,1290593} ┆ {12,0.1290593}  │\n",
       "│ {2,1183491}  ┆ {2,0.1183491}   │\n",
       "│ {9,896596}   ┆ {9,0.0896596}   │\n",
       "│ {15,878264}  ┆ {15,0.0878264}  │\n",
       "│ …            ┆ …               │\n",
       "│ {423,1}      ┆ {423,0.0000001} │\n",
       "│ {627,1}      ┆ {627,0.0000001} │\n",
       "│ {371,1}      ┆ {371,0.0000001} │\n",
       "│ {367,1}      ┆ {367,0.0000001} │\n",
       "│ {640,1}      ┆ {640,0.0000001} │\n",
       "└──────────────┴─────────────────┘"
      ]
     },
     "metadata": {},
     "output_type": "display_data"
    },
    {
     "name": "stdout",
     "output_type": "stream",
     "text": [
      "\n"
     ]
    },
    {
     "data": {
      "text/html": [
       "<div><style>\n",
       ".dataframe > thead > tr,\n",
       ".dataframe > tbody > tr {\n",
       "  text-align: right;\n",
       "  white-space: pre-wrap;\n",
       "}\n",
       "</style>\n",
       "<small>shape: (1_300, 2)</small><table border=\"1\" class=\"dataframe\"><thead><tr><th>device</th><th>device_relative</th></tr><tr><td>struct[2]</td><td>struct[2]</td></tr></thead><tbody><tr><td>{1,9428456}</td><td>{1,0.9428456}</td></tr><tr><td>{2,436271}</td><td>{2,0.0436271}</td></tr><tr><td>{0,56370}</td><td>{0,0.005637}</td></tr><tr><td>{3032,38610}</td><td>{3032,0.003861}</td></tr><tr><td>{3543,14598}</td><td>{3543,0.0014598}</td></tr><tr><td>&hellip;</td><td>&hellip;</td></tr><tr><td>{2326,1}</td><td>{2326,0.0000001}</td></tr><tr><td>{1726,1}</td><td>{1726,0.0000001}</td></tr><tr><td>{3161,1}</td><td>{3161,0.0000001}</td></tr><tr><td>{1255,1}</td><td>{1255,0.0000001}</td></tr><tr><td>{872,1}</td><td>{872,0.0000001}</td></tr></tbody></table></div>"
      ],
      "text/plain": [
       "shape: (1_300, 2)\n",
       "┌──────────────┬──────────────────┐\n",
       "│ device       ┆ device_relative  │\n",
       "│ ---          ┆ ---              │\n",
       "│ struct[2]    ┆ struct[2]        │\n",
       "╞══════════════╪══════════════════╡\n",
       "│ {1,9428456}  ┆ {1,0.9428456}    │\n",
       "│ {2,436271}   ┆ {2,0.0436271}    │\n",
       "│ {0,56370}    ┆ {0,0.005637}     │\n",
       "│ {3032,38610} ┆ {3032,0.003861}  │\n",
       "│ {3543,14598} ┆ {3543,0.0014598} │\n",
       "│ …            ┆ …                │\n",
       "│ {2326,1}     ┆ {2326,0.0000001} │\n",
       "│ {1726,1}     ┆ {1726,0.0000001} │\n",
       "│ {3161,1}     ┆ {3161,0.0000001} │\n",
       "│ {1255,1}     ┆ {1255,0.0000001} │\n",
       "│ {872,1}      ┆ {872,0.0000001}  │\n",
       "└──────────────┴──────────────────┘"
      ]
     },
     "metadata": {},
     "output_type": "display_data"
    },
    {
     "name": "stdout",
     "output_type": "stream",
     "text": [
      "\n"
     ]
    },
    {
     "data": {
      "text/html": [
       "<div><style>\n",
       ".dataframe > thead > tr,\n",
       ".dataframe > tbody > tr {\n",
       "  text-align: right;\n",
       "  white-space: pre-wrap;\n",
       "}\n",
       "</style>\n",
       "<small>shape: (337, 2)</small><table border=\"1\" class=\"dataframe\"><thead><tr><th>os</th><th>os_relative</th></tr><tr><td>struct[2]</td><td>struct[2]</td></tr></thead><tbody><tr><td>{19,2395400}</td><td>{19,0.23954}</td></tr><tr><td>{13,2143071}</td><td>{13,0.2143071}</td></tr><tr><td>{17,520010}</td><td>{17,0.052001}</td></tr><tr><td>{18,485176}</td><td>{18,0.0485176}</td></tr><tr><td>{22,401811}</td><td>{22,0.0401811}</td></tr><tr><td>&hellip;</td><td>&hellip;</td></tr><tr><td>{261,1}</td><td>{261,0.0000001}</td></tr><tr><td>{819,1}</td><td>{819,0.0000001}</td></tr><tr><td>{248,1}</td><td>{248,0.0000001}</td></tr><tr><td>{893,1}</td><td>{893,0.0000001}</td></tr><tr><td>{714,1}</td><td>{714,0.0000001}</td></tr></tbody></table></div>"
      ],
      "text/plain": [
       "shape: (337, 2)\n",
       "┌──────────────┬─────────────────┐\n",
       "│ os           ┆ os_relative     │\n",
       "│ ---          ┆ ---             │\n",
       "│ struct[2]    ┆ struct[2]       │\n",
       "╞══════════════╪═════════════════╡\n",
       "│ {19,2395400} ┆ {19,0.23954}    │\n",
       "│ {13,2143071} ┆ {13,0.2143071}  │\n",
       "│ {17,520010}  ┆ {17,0.052001}   │\n",
       "│ {18,485176}  ┆ {18,0.0485176}  │\n",
       "│ {22,401811}  ┆ {22,0.0401811}  │\n",
       "│ …            ┆ …               │\n",
       "│ {261,1}      ┆ {261,0.0000001} │\n",
       "│ {819,1}      ┆ {819,0.0000001} │\n",
       "│ {248,1}      ┆ {248,0.0000001} │\n",
       "│ {893,1}      ┆ {893,0.0000001} │\n",
       "│ {714,1}      ┆ {714,0.0000001} │\n",
       "└──────────────┴─────────────────┘"
      ]
     },
     "metadata": {},
     "output_type": "display_data"
    },
    {
     "name": "stdout",
     "output_type": "stream",
     "text": [
      "\n"
     ]
    },
    {
     "data": {
      "text/html": [
       "<div><style>\n",
       ".dataframe > thead > tr,\n",
       ".dataframe > tbody > tr {\n",
       "  text-align: right;\n",
       "  white-space: pre-wrap;\n",
       "}\n",
       "</style>\n",
       "<small>shape: (178, 2)</small><table border=\"1\" class=\"dataframe\"><thead><tr><th>channel</th><th>channel_relative</th></tr><tr><td>struct[2]</td><td>struct[2]</td></tr></thead><tbody><tr><td>{280,786568}</td><td>{280,0.0786568}</td></tr><tr><td>{245,485363}</td><td>{245,0.0485363}</td></tr><tr><td>{107,460339}</td><td>{107,0.0460339}</td></tr><tr><td>{477,393183}</td><td>{477,0.0393183}</td></tr><tr><td>{134,322618}</td><td>{134,0.0322618}</td></tr><tr><td>&hellip;</td><td>&hellip;</td></tr><tr><td>{281,4}</td><td>{281,0.0000004}</td></tr><tr><td>{233,3}</td><td>{233,0.0000003}</td></tr><tr><td>{165,1}</td><td>{165,0.0000001}</td></tr><tr><td>{14,1}</td><td>{14,0.0000001}</td></tr><tr><td>{169,1}</td><td>{169,0.0000001}</td></tr></tbody></table></div>"
      ],
      "text/plain": [
       "shape: (178, 2)\n",
       "┌──────────────┬──────────────────┐\n",
       "│ channel      ┆ channel_relative │\n",
       "│ ---          ┆ ---              │\n",
       "│ struct[2]    ┆ struct[2]        │\n",
       "╞══════════════╪══════════════════╡\n",
       "│ {280,786568} ┆ {280,0.0786568}  │\n",
       "│ {245,485363} ┆ {245,0.0485363}  │\n",
       "│ {107,460339} ┆ {107,0.0460339}  │\n",
       "│ {477,393183} ┆ {477,0.0393183}  │\n",
       "│ {134,322618} ┆ {134,0.0322618}  │\n",
       "│ …            ┆ …                │\n",
       "│ {281,4}      ┆ {281,0.0000004}  │\n",
       "│ {233,3}      ┆ {233,0.0000003}  │\n",
       "│ {165,1}      ┆ {165,0.0000001}  │\n",
       "│ {14,1}       ┆ {14,0.0000001}   │\n",
       "│ {169,1}      ┆ {169,0.0000001}  │\n",
       "└──────────────┴──────────────────┘"
      ]
     },
     "metadata": {},
     "output_type": "display_data"
    },
    {
     "name": "stdout",
     "output_type": "stream",
     "text": [
      "\n"
     ]
    },
    {
     "data": {
      "text/html": [
       "<div><style>\n",
       ".dataframe > thead > tr,\n",
       ".dataframe > tbody > tr {\n",
       "  text-align: right;\n",
       "  white-space: pre-wrap;\n",
       "}\n",
       "</style>\n",
       "<small>shape: (228_973, 2)</small><table border=\"1\" class=\"dataframe\"><thead><tr><th>click_time</th><th>click_time_relative</th></tr><tr><td>struct[2]</td><td>struct[2]</td></tr></thead><tbody><tr><td>{2017-11-09 04:52:25,108}</td><td>{2017-11-09 04:52:25,0.0000108}</td></tr><tr><td>{2017-11-08 13:00:30,106}</td><td>{2017-11-08 13:00:30,0.0000106}</td></tr><tr><td>{2017-11-09 11:00:12,106}</td><td>{2017-11-09 11:00:12,0.0000106}</td></tr><tr><td>{2017-11-09 10:00:10,106}</td><td>{2017-11-09 10:00:10,0.0000106}</td></tr><tr><td>{2017-11-08 02:36:15,105}</td><td>{2017-11-08 02:36:15,0.0000105}</td></tr><tr><td>&hellip;</td><td>&hellip;</td></tr><tr><td>{2017-11-07 20:12:16,1}</td><td>{2017-11-07 20:12:16,0.0000001}</td></tr><tr><td>{2017-11-07 20:12:36,1}</td><td>{2017-11-07 20:12:36,0.0000001}</td></tr><tr><td>{2017-11-08 08:18:57,1}</td><td>{2017-11-08 08:18:57,0.0000001}</td></tr><tr><td>{2017-11-09 11:59:18,1}</td><td>{2017-11-09 11:59:18,0.0000001}</td></tr><tr><td>{2017-11-07 02:05:30,1}</td><td>{2017-11-07 02:05:30,0.0000001}</td></tr></tbody></table></div>"
      ],
      "text/plain": [
       "shape: (228_973, 2)\n",
       "┌───────────────────────────┬─────────────────────────────────┐\n",
       "│ click_time                ┆ click_time_relative             │\n",
       "│ ---                       ┆ ---                             │\n",
       "│ struct[2]                 ┆ struct[2]                       │\n",
       "╞═══════════════════════════╪═════════════════════════════════╡\n",
       "│ {2017-11-09 04:52:25,108} ┆ {2017-11-09 04:52:25,0.0000108… │\n",
       "│ {2017-11-08 13:00:30,106} ┆ {2017-11-08 13:00:30,0.0000106… │\n",
       "│ {2017-11-09 11:00:12,106} ┆ {2017-11-09 11:00:12,0.0000106… │\n",
       "│ {2017-11-09 10:00:10,106} ┆ {2017-11-09 10:00:10,0.0000106… │\n",
       "│ {2017-11-08 02:36:15,105} ┆ {2017-11-08 02:36:15,0.0000105… │\n",
       "│ …                         ┆ …                               │\n",
       "│ {2017-11-07 20:12:16,1}   ┆ {2017-11-07 20:12:16,0.0000001… │\n",
       "│ {2017-11-07 20:12:36,1}   ┆ {2017-11-07 20:12:36,0.0000001… │\n",
       "│ {2017-11-08 08:18:57,1}   ┆ {2017-11-08 08:18:57,0.0000001… │\n",
       "│ {2017-11-09 11:59:18,1}   ┆ {2017-11-09 11:59:18,0.0000001… │\n",
       "│ {2017-11-07 02:05:30,1}   ┆ {2017-11-07 02:05:30,0.0000001… │\n",
       "└───────────────────────────┴─────────────────────────────────┘"
      ]
     },
     "metadata": {},
     "output_type": "display_data"
    },
    {
     "name": "stdout",
     "output_type": "stream",
     "text": [
      "\n"
     ]
    },
    {
     "data": {
      "text/html": [
       "<div><style>\n",
       ".dataframe > thead > tr,\n",
       ".dataframe > tbody > tr {\n",
       "  text-align: right;\n",
       "  white-space: pre-wrap;\n",
       "}\n",
       "</style>\n",
       "<small>shape: (23_601, 2)</small><table border=\"1\" class=\"dataframe\"><thead><tr><th>attributed_time</th><th>attributed_time_relative</th></tr><tr><td>struct[2]</td><td>struct[2]</td></tr></thead><tbody><tr><td>{null,9974799}</td><td>{null,0.9974799}</td></tr><tr><td>{2017-11-07 12:21:06,4}</td><td>{2017-11-07 12:21:06,0.0000004}</td></tr><tr><td>{2017-11-08 07:46:32,4}</td><td>{2017-11-08 07:46:32,0.0000004}</td></tr><tr><td>{2017-11-09 10:19:53,4}</td><td>{2017-11-09 10:19:53,0.0000004}</td></tr><tr><td>{2017-11-07 10:32:42,4}</td><td>{2017-11-07 10:32:42,0.0000004}</td></tr><tr><td>&hellip;</td><td>&hellip;</td></tr><tr><td>{2017-11-07 07:30:15,1}</td><td>{2017-11-07 07:30:15,0.0000001}</td></tr><tr><td>{2017-11-07 06:11:52,1}</td><td>{2017-11-07 06:11:52,0.0000001}</td></tr><tr><td>{2017-11-07 10:05:56,1}</td><td>{2017-11-07 10:05:56,0.0000001}</td></tr><tr><td>{2017-11-07 10:37:05,1}</td><td>{2017-11-07 10:37:05,0.0000001}</td></tr><tr><td>{2017-11-07 06:35:34,1}</td><td>{2017-11-07 06:35:34,0.0000001}</td></tr></tbody></table></div>"
      ],
      "text/plain": [
       "shape: (23_601, 2)\n",
       "┌─────────────────────────┬─────────────────────────────────┐\n",
       "│ attributed_time         ┆ attributed_time_relative        │\n",
       "│ ---                     ┆ ---                             │\n",
       "│ struct[2]               ┆ struct[2]                       │\n",
       "╞═════════════════════════╪═════════════════════════════════╡\n",
       "│ {null,9974799}          ┆ {null,0.9974799}                │\n",
       "│ {2017-11-07 12:21:06,4} ┆ {2017-11-07 12:21:06,0.0000004… │\n",
       "│ {2017-11-08 07:46:32,4} ┆ {2017-11-08 07:46:32,0.0000004… │\n",
       "│ {2017-11-09 10:19:53,4} ┆ {2017-11-09 10:19:53,0.0000004… │\n",
       "│ {2017-11-07 10:32:42,4} ┆ {2017-11-07 10:32:42,0.0000004… │\n",
       "│ …                       ┆ …                               │\n",
       "│ {2017-11-07 07:30:15,1} ┆ {2017-11-07 07:30:15,0.0000001… │\n",
       "│ {2017-11-07 06:11:52,1} ┆ {2017-11-07 06:11:52,0.0000001… │\n",
       "│ {2017-11-07 10:05:56,1} ┆ {2017-11-07 10:05:56,0.0000001… │\n",
       "│ {2017-11-07 10:37:05,1} ┆ {2017-11-07 10:37:05,0.0000001… │\n",
       "│ {2017-11-07 06:35:34,1} ┆ {2017-11-07 06:35:34,0.0000001… │\n",
       "└─────────────────────────┴─────────────────────────────────┘"
      ]
     },
     "metadata": {},
     "output_type": "display_data"
    },
    {
     "name": "stdout",
     "output_type": "stream",
     "text": [
      "\n"
     ]
    },
    {
     "data": {
      "text/html": [
       "<div><style>\n",
       ".dataframe > thead > tr,\n",
       ".dataframe > tbody > tr {\n",
       "  text-align: right;\n",
       "  white-space: pre-wrap;\n",
       "}\n",
       "</style>\n",
       "<small>shape: (2, 2)</small><table border=\"1\" class=\"dataframe\"><thead><tr><th>is_attributed</th><th>is_attributed_relative</th></tr><tr><td>struct[2]</td><td>struct[2]</td></tr></thead><tbody><tr><td>{false,9974799}</td><td>{false,0.9974799}</td></tr><tr><td>{true,25201}</td><td>{true,0.0025201}</td></tr></tbody></table></div>"
      ],
      "text/plain": [
       "shape: (2, 2)\n",
       "┌─────────────────┬────────────────────────┐\n",
       "│ is_attributed   ┆ is_attributed_relative │\n",
       "│ ---             ┆ ---                    │\n",
       "│ struct[2]       ┆ struct[2]              │\n",
       "╞═════════════════╪════════════════════════╡\n",
       "│ {false,9974799} ┆ {false,0.9974799}      │\n",
       "│ {true,25201}    ┆ {true,0.0025201}       │\n",
       "└─────────────────┴────────────────────────┘"
      ]
     },
     "metadata": {},
     "output_type": "display_data"
    },
    {
     "name": "stdout",
     "output_type": "stream",
     "text": [
      "\n"
     ]
    }
   ],
   "source": [
    "for _col in train_schema:\n",
    "    display(\n",
    "        data_lf.select(\n",
    "            **{\n",
    "                _col: pl.col(_col).value_counts(parallel=True, sort=True),\n",
    "                f\"{_col}_relative\": pl.col(_col).value_counts(parallel=True, sort=True, normalize=True),\n",
    "            }\n",
    "        ).collect()\n",
    "    )\n",
    "    print()"
   ]
  },
  {
   "cell_type": "markdown",
   "id": "8ad6f946",
   "metadata": {},
   "source": [
    "The dataset is highly imbalanced - positive class is only 0.25201%."
   ]
  }
 ],
 "metadata": {
  "kernelspec": {
   "display_name": "adtracking-fraud-detection",
   "language": "python",
   "name": "python3"
  },
  "language_info": {
   "codemirror_mode": {
    "name": "ipython",
    "version": 3
   },
   "file_extension": ".py",
   "mimetype": "text/x-python",
   "name": "python",
   "nbconvert_exporter": "python",
   "pygments_lexer": "ipython3",
   "version": "3.13.3"
  }
 },
 "nbformat": 4,
 "nbformat_minor": 5
}
