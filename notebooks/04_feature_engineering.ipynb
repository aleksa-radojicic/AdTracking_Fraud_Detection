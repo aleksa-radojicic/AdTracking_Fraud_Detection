{
 "cells": [
  {
   "cell_type": "code",
   "execution_count": 1,
   "id": "757613c9",
   "metadata": {},
   "outputs": [],
   "source": [
    "import os\n",
    "\n",
    "os.chdir(\"..\")"
   ]
  },
  {
   "cell_type": "code",
   "execution_count": 2,
   "id": "860a4aa0",
   "metadata": {},
   "outputs": [],
   "source": [
    "import polars as pl\n",
    "\n",
    "from src.constants import TRAIN_SAMPLE_SIZE\n",
    "from src.datatypes import BaseSchema, TrainSchema, filepaths, ExtendedSchema"
   ]
  },
  {
   "cell_type": "code",
   "execution_count": 3,
   "id": "d4377788",
   "metadata": {},
   "outputs": [],
   "source": [
    "# Aliases\n",
    "S = TrainSchema\n",
    "E = ExtendedSchema\n",
    "\n",
    "train_schema = BaseSchema.__annotations__ | TrainSchema.__annotations__"
   ]
  },
  {
   "cell_type": "code",
   "execution_count": 4,
   "id": "efc655ff",
   "metadata": {},
   "outputs": [],
   "source": [
    "data = pl.scan_parquet(filepaths.train_unique, schema=train_schema, cast_options=pl.ScanCastOptions(integer_cast='upcast')).head(TRAIN_SAMPLE_SIZE).collect()\n",
    "data_lf = data.lazy()\n",
    "data_lf = data_lf.cast({S.click_time: pl.Datetime('ms')})\n",
    "data_lf = data_lf.sort(S.click_time, maintain_order=True)"
   ]
  },
  {
   "cell_type": "code",
   "execution_count": 5,
   "id": "d564ccd9",
   "metadata": {},
   "outputs": [],
   "source": [
    "from sklearn.model_selection import train_test_split\n",
    "\n",
    "\n",
    "TEST_SIZE = 0.10\n",
    "\n",
    "X = data_lf.drop(S.label(), S.attributed_time)\n",
    "y = data_lf.select(S.label())\n",
    "\n",
    "train, eval = train_test_split(\n",
    "    data_lf.collect(),\n",
    "    test_size=TEST_SIZE,\n",
    "    shuffle=False,\n",
    ")\n",
    "\n",
    "train: pl.DataFrame\n",
    "eval: pl.DataFrame"
   ]
  },
  {
   "cell_type": "code",
   "execution_count": 6,
   "id": "9ab459a2",
   "metadata": {},
   "outputs": [
    {
     "data": {
      "text/html": [
       "\n",
       "<style>\n",
       "  #altair-viz-973f995ebae44e938155391b7181bcda.vega-embed {\n",
       "    width: 100%;\n",
       "    display: flex;\n",
       "  }\n",
       "\n",
       "  #altair-viz-973f995ebae44e938155391b7181bcda.vega-embed details,\n",
       "  #altair-viz-973f995ebae44e938155391b7181bcda.vega-embed details summary {\n",
       "    position: relative;\n",
       "  }\n",
       "</style>\n",
       "<div id=\"altair-viz-973f995ebae44e938155391b7181bcda\"></div>\n",
       "<script type=\"text/javascript\">\n",
       "  var VEGA_DEBUG = (typeof VEGA_DEBUG == \"undefined\") ? {} : VEGA_DEBUG;\n",
       "  (function(spec, embedOpt){\n",
       "    let outputDiv = document.currentScript.previousElementSibling;\n",
       "    if (outputDiv.id !== \"altair-viz-973f995ebae44e938155391b7181bcda\") {\n",
       "      outputDiv = document.getElementById(\"altair-viz-973f995ebae44e938155391b7181bcda\");\n",
       "    }\n",
       "\n",
       "    const paths = {\n",
       "      \"vega\": \"https://cdn.jsdelivr.net/npm/vega@5?noext\",\n",
       "      \"vega-lib\": \"https://cdn.jsdelivr.net/npm/vega-lib?noext\",\n",
       "      \"vega-lite\": \"https://cdn.jsdelivr.net/npm/vega-lite@5.20.1?noext\",\n",
       "      \"vega-embed\": \"https://cdn.jsdelivr.net/npm/vega-embed@6?noext\",\n",
       "    };\n",
       "\n",
       "    function maybeLoadScript(lib, version) {\n",
       "      var key = `${lib.replace(\"-\", \"\")}_version`;\n",
       "      return (VEGA_DEBUG[key] == version) ?\n",
       "        Promise.resolve(paths[lib]) :\n",
       "        new Promise(function(resolve, reject) {\n",
       "          var s = document.createElement('script');\n",
       "          document.getElementsByTagName(\"head\")[0].appendChild(s);\n",
       "          s.async = true;\n",
       "          s.onload = () => {\n",
       "            VEGA_DEBUG[key] = version;\n",
       "            return resolve(paths[lib]);\n",
       "          };\n",
       "          s.onerror = () => reject(`Error loading script: ${paths[lib]}`);\n",
       "          s.src = paths[lib];\n",
       "        });\n",
       "    }\n",
       "\n",
       "    function showError(err) {\n",
       "      outputDiv.innerHTML = `<div class=\"error\" style=\"color:red;\">${err}</div>`;\n",
       "      throw err;\n",
       "    }\n",
       "\n",
       "    function displayChart(vegaEmbed) {\n",
       "      vegaEmbed(outputDiv, spec, embedOpt)\n",
       "        .catch(err => showError(`Javascript Error: ${err.message}<br>This usually means there's a typo in your chart specification. See the javascript console for the full traceback.`));\n",
       "    }\n",
       "\n",
       "    if(typeof define === \"function\" && define.amd) {\n",
       "      requirejs.config({paths});\n",
       "      let deps = [\"vega-embed\"];\n",
       "      require(deps, displayChart, err => showError(`Error loading script: ${err.message}`));\n",
       "    } else {\n",
       "      maybeLoadScript(\"vega\", \"5\")\n",
       "        .then(() => maybeLoadScript(\"vega-lite\", \"5.20.1\"))\n",
       "        .then(() => maybeLoadScript(\"vega-embed\", \"6\"))\n",
       "        .catch(showError)\n",
       "        .then(() => displayChart(vegaEmbed));\n",
       "    }\n",
       "  })({\"config\": {\"view\": {\"continuousWidth\": 300, \"continuousHeight\": 300}}, \"data\": {\"name\": \"data-67b12f9f3e27c48a08ec9cd3fd8a2d04\"}, \"mark\": {\"type\": \"bar\", \"tooltip\": true}, \"encoding\": {\"x\": {\"field\": \"ip\", \"sort\": [\"5348 55630\", \"5314 52812\", \"73516 36594\", \"73487 36358\", \"53454 23126\", \"114276 20096\", \"26995 18719\", \"95766 17957\", \"100275 13360\", \"105475 13195\", \"17149 13069\", \"86767 12590\", \"105560 12526\", \"43793 12466\", \"137052 11841\", \"201182 11544\", \"111025 10730\", \"5178 10110\", \"5147 9355\", \"209663 9266\", \"49602 9247\", \"93587 8060\", \"84896 7972\", \"138561 7895\", \"45745 7712\", \"114220 7702\", \"48282 7438\", \"48212 7213\", \"123994 7099\", \"48240 7017\", \"48170 6972\", \"92766 6868\", \"77048 6779\", \"125222 6709\", \"93054 6698\", \"92735 6616\", \"93021 6583\", \"44067 6491\", \"119289 6422\", \"119369 6320\", \"43827 6315\", \"119531 6233\", \"44744 6222\", \"79857 6160\", \"3994 5897\", \"114314 5802\", \"79909 5740\", \"114235 5703\", \"4052 5669\", \"75634 5595\", \"44725 5551\", \"53964 5416\", \"119349 5399\", \"75595 5378\", \"36183 5343\", \"53715 5337\", \"79881 5335\", \"79827 5306\", \"3964 5220\", \"4019 5102\", \"36213 5093\", \"108341 5064\", \"36150 5055\"], \"type\": \"ordinal\"}, \"y\": {\"field\": \"true_rel\", \"type\": \"quantitative\"}}, \"params\": [{\"name\": \"param_1\", \"select\": {\"type\": \"interval\", \"encodings\": [\"x\", \"y\"]}, \"bind\": \"scales\"}], \"title\": \"Count by label\", \"$schema\": \"https://vega.github.io/schema/vega-lite/v5.20.1.json\", \"datasets\": {\"data-67b12f9f3e27c48a08ec9cd3fd8a2d04\": [{\"ip\": \"5348 55630\", \"true\": 113, \"false\": 55517, \"total\": 55630, \"true_rel\": 0.20312780873629338}, {\"ip\": \"5314 52812\", \"true\": 88, \"false\": 52724, \"total\": 52812, \"true_rel\": 0.1666287964856472}, {\"ip\": \"73516 36594\", \"true\": 50, \"false\": 36544, \"total\": 36594, \"true_rel\": 0.13663442094332406}, {\"ip\": \"73487 36358\", \"true\": 41, \"false\": 36317, \"total\": 36358, \"true_rel\": 0.11276747895923869}, {\"ip\": \"53454 23126\", \"true\": 3, \"false\": 23123, \"total\": 23126, \"true_rel\": 0.012972412003805242}, {\"ip\": \"114276 20096\", \"true\": 4, \"false\": 20092, \"total\": 20096, \"true_rel\": 0.019904458598726117}, {\"ip\": \"26995 18719\", \"true\": 17, \"false\": 18702, \"total\": 18719, \"true_rel\": 0.09081681713766761}, {\"ip\": \"95766 17957\", \"true\": 18, \"false\": 17939, \"total\": 17957, \"true_rel\": 0.10023946093445453}, {\"ip\": \"100275 13360\", \"true\": 22, \"false\": 13338, \"total\": 13360, \"true_rel\": 0.16467065868263472}, {\"ip\": \"105475 13195\", \"true\": 6, \"false\": 13189, \"total\": 13195, \"true_rel\": 0.04547176960970064}, {\"ip\": \"17149 13069\", \"true\": 9, \"false\": 13060, \"total\": 13069, \"true_rel\": 0.06886525365368429}, {\"ip\": \"86767 12590\", \"true\": 8, \"false\": 12582, \"total\": 12590, \"true_rel\": 0.06354249404289118}, {\"ip\": \"105560 12526\", \"true\": 21, \"false\": 12505, \"total\": 12526, \"true_rel\": 0.16765128532652082}, {\"ip\": \"43793 12466\", \"true\": 11, \"false\": 12455, \"total\": 12466, \"true_rel\": 0.08824001283491095}, {\"ip\": \"137052 11841\", \"true\": 14, \"false\": 11827, \"total\": 11841, \"true_rel\": 0.11823325732623934}, {\"ip\": \"201182 11544\", \"true\": 13, \"false\": 11531, \"total\": 11544, \"true_rel\": 0.11261261261261261}, {\"ip\": \"111025 10730\", \"true\": 8, \"false\": 10722, \"total\": 10730, \"true_rel\": 0.07455731593662629}, {\"ip\": \"5178 10110\", \"true\": 28, \"false\": 10082, \"total\": 10110, \"true_rel\": 0.27695351137487634}, {\"ip\": \"5147 9355\", \"true\": 24, \"false\": 9331, \"total\": 9355, \"true_rel\": 0.256547300908605}, {\"ip\": \"209663 9266\", \"true\": 5, \"false\": 9261, \"total\": 9266, \"true_rel\": 0.05396071659831643}, {\"ip\": \"49602 9247\", \"true\": 14, \"false\": 9233, \"total\": 9247, \"true_rel\": 0.1514004542013626}, {\"ip\": \"93587 8060\", \"true\": 6, \"false\": 8054, \"total\": 8060, \"true_rel\": 0.07444168734491315}, {\"ip\": \"84896 7972\", \"true\": 9, \"false\": 7963, \"total\": 7972, \"true_rel\": 0.11289513296537881}, {\"ip\": \"138561 7895\", \"true\": 1, \"false\": 7894, \"total\": 7895, \"true_rel\": 0.01266624445851805}, {\"ip\": \"45745 7712\", \"true\": 12, \"false\": 7700, \"total\": 7712, \"true_rel\": 0.15560165975103735}, {\"ip\": \"114220 7702\", \"true\": 2, \"false\": 7700, \"total\": 7702, \"true_rel\": 0.025967281225655673}, {\"ip\": \"48282 7438\", \"true\": 4, \"false\": 7434, \"total\": 7438, \"true_rel\": 0.05377789728421619}, {\"ip\": \"48212 7213\", \"true\": 1, \"false\": 7212, \"total\": 7213, \"true_rel\": 0.013863856924996535}, {\"ip\": \"123994 7099\", \"true\": 15, \"false\": 7084, \"total\": 7099, \"true_rel\": 0.2112973658261727}, {\"ip\": \"48240 7017\", \"true\": 4, \"false\": 7013, \"total\": 7017, \"true_rel\": 0.05700441784238278}, {\"ip\": \"48170 6972\", \"true\": 2, \"false\": 6970, \"total\": 6972, \"true_rel\": 0.028686173264486515}, {\"ip\": \"92766 6868\", \"true\": 5, \"false\": 6863, \"total\": 6868, \"true_rel\": 0.0728013977868375}, {\"ip\": \"77048 6779\", \"true\": 6, \"false\": 6773, \"total\": 6779, \"true_rel\": 0.08850862959138515}, {\"ip\": \"125222 6709\", \"true\": 5, \"false\": 6704, \"total\": 6709, \"true_rel\": 0.07452675510508272}, {\"ip\": \"93054 6698\", \"true\": 8, \"false\": 6690, \"total\": 6698, \"true_rel\": 0.11943863839952225}, {\"ip\": \"92735 6616\", \"true\": 8, \"false\": 6608, \"total\": 6616, \"true_rel\": 0.12091898428053204}, {\"ip\": \"93021 6583\", \"true\": 9, \"false\": 6574, \"total\": 6583, \"true_rel\": 0.13671578307762416}, {\"ip\": \"44067 6491\", \"true\": 7, \"false\": 6484, \"total\": 6491, \"true_rel\": 0.10784162686797104}, {\"ip\": \"119289 6422\", \"true\": 3, \"false\": 6419, \"total\": 6422, \"true_rel\": 0.04671441918405481}, {\"ip\": \"119369 6320\", \"true\": 4, \"false\": 6316, \"total\": 6320, \"true_rel\": 0.06329113924050633}, {\"ip\": \"43827 6315\", \"true\": 4, \"false\": 6311, \"total\": 6315, \"true_rel\": 0.06334125098970705}, {\"ip\": \"119531 6233\", \"true\": 13, \"false\": 6220, \"total\": 6233, \"true_rel\": 0.208567303064335}, {\"ip\": \"44744 6222\", \"true\": 14, \"false\": 6208, \"total\": 6222, \"true_rel\": 0.22500803600128574}, {\"ip\": \"79857 6160\", \"true\": 9, \"false\": 6151, \"total\": 6160, \"true_rel\": 0.1461038961038961}, {\"ip\": \"3994 5897\", \"true\": 8, \"false\": 5889, \"total\": 5897, \"true_rel\": 0.13566220111921318}, {\"ip\": \"114314 5802\", \"true\": 5, \"false\": 5797, \"total\": 5802, \"true_rel\": 0.08617718028266115}, {\"ip\": \"79909 5740\", \"true\": 5, \"false\": 5735, \"total\": 5740, \"true_rel\": 0.08710801393728224}, {\"ip\": \"114235 5703\", \"true\": 1, \"false\": 5702, \"total\": 5703, \"true_rel\": 0.01753463089601964}, {\"ip\": \"4052 5669\", \"true\": 8, \"false\": 5661, \"total\": 5669, \"true_rel\": 0.14111836302698888}, {\"ip\": \"75634 5595\", \"true\": 5, \"false\": 5590, \"total\": 5595, \"true_rel\": 0.08936550491510277}, {\"ip\": \"44725 5551\", \"true\": 11, \"false\": 5540, \"total\": 5551, \"true_rel\": 0.19816249324446045}, {\"ip\": \"53964 5416\", \"true\": 6, \"false\": 5410, \"total\": 5416, \"true_rel\": 0.11078286558345643}, {\"ip\": \"119349 5399\", \"true\": 1, \"false\": 5398, \"total\": 5399, \"true_rel\": 0.018521948508983144}, {\"ip\": \"75595 5378\", \"true\": 4, \"false\": 5374, \"total\": 5378, \"true_rel\": 0.07437709185570844}, {\"ip\": \"36183 5343\", \"true\": 6, \"false\": 5337, \"total\": 5343, \"true_rel\": 0.11229646266142618}, {\"ip\": \"53715 5337\", \"true\": 7, \"false\": 5330, \"total\": 5337, \"true_rel\": 0.13115982761851228}, {\"ip\": \"79881 5335\", \"true\": 1, \"false\": 5334, \"total\": 5335, \"true_rel\": 0.018744142455482664}, {\"ip\": \"79827 5306\", \"true\": 4, \"false\": 5302, \"total\": 5306, \"true_rel\": 0.07538635506973237}, {\"ip\": \"3964 5220\", \"true\": 1, \"false\": 5219, \"total\": 5220, \"true_rel\": 0.019157088122605366}, {\"ip\": \"4019 5102\", \"true\": 3, \"false\": 5099, \"total\": 5102, \"true_rel\": 0.058800470403763225}, {\"ip\": \"36213 5093\", \"true\": 4, \"false\": 5089, \"total\": 5093, \"true_rel\": 0.0785391714117416}, {\"ip\": \"108341 5064\", \"true\": 7, \"false\": 5057, \"total\": 5064, \"true_rel\": 0.1382306477093207}, {\"ip\": \"36150 5055\", \"true\": 3, \"false\": 5052, \"total\": 5055, \"true_rel\": 0.05934718100890207}]}}, {\"mode\": \"vega-lite\"});\n",
       "</script>"
      ],
      "text/plain": [
       "alt.Chart(...)"
      ]
     },
     "execution_count": 6,
     "metadata": {},
     "output_type": "execute_result"
    }
   ],
   "source": [
    "(train\n",
    " .group_by(S.ip, maintain_order=True)\n",
    " .agg(pl.col(S.label()).value_counts())\n",
    " .explode(S.label())\n",
    " .unnest(S.label())\n",
    " .pivot(index=S.ip, values='count', on=S.label())\n",
    " .select(S.ip, 'true', 'false') # always make `true`` column first\n",
    " .fill_null(0)\n",
    " .sort(pl.col('true').add(pl.col('false')), descending=True, maintain_order=True)\n",
    " .with_columns(total=pl.col('true').add(pl.col('false')))\n",
    " .with_columns(\n",
    "     true_rel=pl.col('true').truediv('total').mul(100)\n",
    " )\n",
    " .filter(pl.col('total').gt(5000))\n",
    " .with_columns(\n",
    "     pl.col(S.ip).cast(pl.String).add(pl.lit(' ')).add(pl.col('total').cast(pl.String)).cast(pl.Categorical)\n",
    " )\n",
    " .plot.bar(x=S.ip, y='true_rel').properties(title='Count by label')\n",
    ")"
   ]
  },
  {
   "cell_type": "markdown",
   "id": "9138360d",
   "metadata": {},
   "source": [
    "# Session-based columns"
   ]
  },
  {
   "cell_type": "markdown",
   "id": "37b9636d",
   "metadata": {},
   "source": [
    "Since rows of the same `ip` are dependant, we could derive how much sessions user previously had. One approach would be decide an average session lasts for example 10 minutes, but for different apps and users session times vary. Another approach will be applied: if time between two consecutive `click_time` is more than 15 minutes, than this marks end of session 1 and the beginning of session 2."
   ]
  },
  {
   "cell_type": "markdown",
   "id": "f36f1d86",
   "metadata": {},
   "source": [
    "## Create `click_timestamp` column"
   ]
  },
  {
   "cell_type": "code",
   "execution_count": 7,
   "id": "ee6451f0",
   "metadata": {},
   "outputs": [
    {
     "data": {
      "text/html": [
       "<div><style>\n",
       ".dataframe > thead > tr,\n",
       ".dataframe > tbody > tr {\n",
       "  text-align: right;\n",
       "  white-space: pre-wrap;\n",
       "}\n",
       "</style>\n",
       "<small>shape: (1, 1)</small><table border=\"1\" class=\"dataframe\"><thead><tr><th>click_time</th></tr><tr><td>datetime[ms]</td></tr></thead><tbody><tr><td>2017-11-06 16:00:01</td></tr></tbody></table></div>"
      ],
      "text/plain": [
       "shape: (1, 1)\n",
       "┌─────────────────────┐\n",
       "│ click_time          │\n",
       "│ ---                 │\n",
       "│ datetime[ms]        │\n",
       "╞═════════════════════╡\n",
       "│ 2017-11-06 16:00:01 │\n",
       "└─────────────────────┘"
      ]
     },
     "metadata": {},
     "output_type": "display_data"
    }
   ],
   "source": [
    "first_train_datetime = train.select(pl.col(S.click_time).min())\n",
    "display(first_train_datetime)"
   ]
  },
  {
   "cell_type": "code",
   "execution_count": 8,
   "id": "5a607758",
   "metadata": {},
   "outputs": [
    {
     "data": {
      "text/html": [
       "<div><style>\n",
       ".dataframe > thead > tr,\n",
       ".dataframe > tbody > tr {\n",
       "  text-align: right;\n",
       "  white-space: pre-wrap;\n",
       "}\n",
       "</style>\n",
       "<small>shape: (9_000_000, 1)</small><table border=\"1\" class=\"dataframe\"><thead><tr><th>click_timestamp</th></tr><tr><td>u32</td></tr></thead><tbody><tr><td>0</td></tr><tr><td>0</td></tr><tr><td>0</td></tr><tr><td>0</td></tr><tr><td>0</td></tr><tr><td>&hellip;</td></tr><tr><td>239026</td></tr><tr><td>239026</td></tr><tr><td>239026</td></tr><tr><td>239026</td></tr><tr><td>239026</td></tr></tbody></table></div>"
      ],
      "text/plain": [
       "shape: (9_000_000, 1)\n",
       "┌─────────────────┐\n",
       "│ click_timestamp │\n",
       "│ ---             │\n",
       "│ u32             │\n",
       "╞═════════════════╡\n",
       "│ 0               │\n",
       "│ 0               │\n",
       "│ 0               │\n",
       "│ 0               │\n",
       "│ 0               │\n",
       "│ …               │\n",
       "│ 239026          │\n",
       "│ 239026          │\n",
       "│ 239026          │\n",
       "│ 239026          │\n",
       "│ 239026          │\n",
       "└─────────────────┘"
      ]
     },
     "metadata": {},
     "output_type": "display_data"
    },
    {
     "name": "stdout",
     "output_type": "stream",
     "text": [
      "\n",
      "\n"
     ]
    },
    {
     "data": {
      "text/html": [
       "<div><style>\n",
       ".dataframe > thead > tr,\n",
       ".dataframe > tbody > tr {\n",
       "  text-align: right;\n",
       "  white-space: pre-wrap;\n",
       "}\n",
       "</style>\n",
       "<small>shape: (211_343, 1)</small><table border=\"1\" class=\"dataframe\"><thead><tr><th>click_timestamp</th></tr><tr><td>struct[2]</td></tr></thead><tbody><tr><td>{203287,57}</td></tr><tr><td>{88143,50}</td></tr><tr><td>{96481,13}</td></tr><tr><td>{132251,56}</td></tr><tr><td>{9642,15}</td></tr><tr><td>&hellip;</td></tr><tr><td>{121747,44}</td></tr><tr><td>{113053,42}</td></tr><tr><td>{22077,18}</td></tr><tr><td>{28286,71}</td></tr><tr><td>{228693,59}</td></tr></tbody></table></div>"
      ],
      "text/plain": [
       "shape: (211_343, 1)\n",
       "┌─────────────────┐\n",
       "│ click_timestamp │\n",
       "│ ---             │\n",
       "│ struct[2]       │\n",
       "╞═════════════════╡\n",
       "│ {203287,57}     │\n",
       "│ {88143,50}      │\n",
       "│ {96481,13}      │\n",
       "│ {132251,56}     │\n",
       "│ {9642,15}       │\n",
       "│ …               │\n",
       "│ {121747,44}     │\n",
       "│ {113053,42}     │\n",
       "│ {22077,18}      │\n",
       "│ {28286,71}      │\n",
       "│ {228693,59}     │\n",
       "└─────────────────┘"
      ]
     },
     "metadata": {},
     "output_type": "display_data"
    }
   ],
   "source": [
    "click_timestamp = train.select(\n",
    "    (pl.col(S.click_time)\n",
    "     .dt.timestamp('ms')\n",
    "     .sub(first_train_datetime.select(pl.col(S.click_time).dt.timestamp('ms')).row(0)[0])\n",
    "    .floordiv(1000) # from ms to s\n",
    "    )\n",
    "    .cast(pl.UInt32)\n",
    "    .alias(E.click_timestamp)\n",
    ")\n",
    "display(click_timestamp)\n",
    "print()\n",
    "\n",
    "click_timestamp.describe()\n",
    "print()\n",
    "\n",
    "display(click_timestamp.select(pl.col(E.click_timestamp).value_counts()))"
   ]
  },
  {
   "cell_type": "code",
   "execution_count": 9,
   "id": "562ad930",
   "metadata": {},
   "outputs": [],
   "source": [
    "train_extended = (train\n",
    " .hstack(click_timestamp)\n",
    " .select(\n",
    "     pl.all()\n",
    "     .exclude(S.attributed_time, S.label()), \n",
    "     S.attributed_time, \n",
    "     S.label()\n",
    " )\n",
    ")"
   ]
  },
  {
   "cell_type": "markdown",
   "id": "14873fde",
   "metadata": {},
   "source": [
    "## Create `previous_sessions` column"
   ]
  },
  {
   "cell_type": "markdown",
   "id": "55fa0461",
   "metadata": {},
   "source": [
    "Time between two sessions will be 15 minutes."
   ]
  },
  {
   "cell_type": "code",
   "execution_count": 10,
   "id": "f719947f",
   "metadata": {},
   "outputs": [],
   "source": [
    "from typing import Annotated\n",
    "\n",
    "\n",
    "duration_between_sessions: Annotated[int, 's'] = 15 * 60"
   ]
  },
  {
   "cell_type": "code",
   "execution_count": 11,
   "id": "1a2f1984",
   "metadata": {},
   "outputs": [
    {
     "name": "stdout",
     "output_type": "stream",
     "text": [
      "Previous sessions\n"
     ]
    },
    {
     "data": {
      "text/html": [
       "<div><style>\n",
       ".dataframe > thead > tr,\n",
       ".dataframe > tbody > tr {\n",
       "  text-align: right;\n",
       "  white-space: pre-wrap;\n",
       "}\n",
       "</style>\n",
       "<small>shape: (9_000_000, 3)</small><table border=\"1\" class=\"dataframe\"><thead><tr><th>ip</th><th>click_time</th><th>previous_sessions</th></tr><tr><td>u32</td><td>datetime[ms]</td><td>u32</td></tr></thead><tbody><tr><td>1</td><td>2017-11-08 22:20:54</td><td>0</td></tr><tr><td>5</td><td>2017-11-07 05:06:16</td><td>0</td></tr><tr><td>6</td><td>2017-11-07 17:43:04</td><td>0</td></tr><tr><td>6</td><td>2017-11-07 23:11:47</td><td>1</td></tr><tr><td>6</td><td>2017-11-07 23:17:21</td><td>1</td></tr><tr><td>&hellip;</td><td>&hellip;</td><td>&hellip;</td></tr><tr><td>364773</td><td>2017-11-09 01:08:05</td><td>0</td></tr><tr><td>364773</td><td>2017-11-09 09:21:58</td><td>1</td></tr><tr><td>364775</td><td>2017-11-09 06:56:03</td><td>0</td></tr><tr><td>364776</td><td>2017-11-08 16:35:40</td><td>0</td></tr><tr><td>364776</td><td>2017-11-08 17:24:05</td><td>1</td></tr></tbody></table></div>"
      ],
      "text/plain": [
       "shape: (9_000_000, 3)\n",
       "┌────────┬─────────────────────┬───────────────────┐\n",
       "│ ip     ┆ click_time          ┆ previous_sessions │\n",
       "│ ---    ┆ ---                 ┆ ---               │\n",
       "│ u32    ┆ datetime[ms]        ┆ u32               │\n",
       "╞════════╪═════════════════════╪═══════════════════╡\n",
       "│ 1      ┆ 2017-11-08 22:20:54 ┆ 0                 │\n",
       "│ 5      ┆ 2017-11-07 05:06:16 ┆ 0                 │\n",
       "│ 6      ┆ 2017-11-07 17:43:04 ┆ 0                 │\n",
       "│ 6      ┆ 2017-11-07 23:11:47 ┆ 1                 │\n",
       "│ 6      ┆ 2017-11-07 23:17:21 ┆ 1                 │\n",
       "│ …      ┆ …                   ┆ …                 │\n",
       "│ 364773 ┆ 2017-11-09 01:08:05 ┆ 0                 │\n",
       "│ 364773 ┆ 2017-11-09 09:21:58 ┆ 1                 │\n",
       "│ 364775 ┆ 2017-11-09 06:56:03 ┆ 0                 │\n",
       "│ 364776 ┆ 2017-11-08 16:35:40 ┆ 0                 │\n",
       "│ 364776 ┆ 2017-11-08 17:24:05 ┆ 1                 │\n",
       "└────────┴─────────────────────┴───────────────────┘"
      ]
     },
     "metadata": {},
     "output_type": "display_data"
    },
    {
     "name": "stdout",
     "output_type": "stream",
     "text": [
      "\n"
     ]
    }
   ],
   "source": [
    "previous_sessions = (train_extended\n",
    ".sort([S.ip, S.click_time], maintain_order=True)\n",
    ".select(\n",
    "    S.ip,\n",
    "    S.click_time,\n",
    "    pl.col(E.click_timestamp)\n",
    "    .diff()\n",
    "    .fill_null(0) # because of the 1st row (does not have previous row)\n",
    "    .ge(duration_between_sessions)\n",
    "    .cum_sum()\n",
    "    .over(S.ip)\n",
    "    .alias(E.previous_sessions)\n",
    ")\n",
    ")\n",
    "print(\"Previous sessions\")\n",
    "display(previous_sessions)\n",
    "print()"
   ]
  },
  {
   "cell_type": "code",
   "execution_count": 12,
   "id": "247facfd",
   "metadata": {},
   "outputs": [],
   "source": [
    "train_extended = (train_extended\n",
    " .sort(S.ip, S.click_time, maintain_order=True)\n",
    " .hstack(previous_sessions.drop(S.ip, S.click_time))\n",
    " .select(\n",
    "     pl.all()\n",
    "     .exclude(S.attributed_time, S.label()), \n",
    "     S.attributed_time, \n",
    "     S.label()\n",
    " )\n",
    ")"
   ]
  },
  {
   "cell_type": "markdown",
   "id": "3d25394a",
   "metadata": {},
   "source": [
    "## Create `total_sessions` column"
   ]
  },
  {
   "cell_type": "code",
   "execution_count": 13,
   "id": "26667a44",
   "metadata": {},
   "outputs": [
    {
     "name": "stdout",
     "output_type": "stream",
     "text": [
      "Total sessions\n"
     ]
    },
    {
     "data": {
      "text/html": [
       "<div><style>\n",
       ".dataframe > thead > tr,\n",
       ".dataframe > tbody > tr {\n",
       "  text-align: right;\n",
       "  white-space: pre-wrap;\n",
       "}\n",
       "</style>\n",
       "<small>shape: (9_000_000, 2)</small><table border=\"1\" class=\"dataframe\"><thead><tr><th>ip</th><th>total_sessions</th></tr><tr><td>u32</td><td>u32</td></tr></thead><tbody><tr><td>1</td><td>1</td></tr><tr><td>5</td><td>1</td></tr><tr><td>6</td><td>34</td></tr><tr><td>6</td><td>34</td></tr><tr><td>6</td><td>34</td></tr><tr><td>&hellip;</td><td>&hellip;</td></tr><tr><td>364773</td><td>2</td></tr><tr><td>364773</td><td>2</td></tr><tr><td>364775</td><td>1</td></tr><tr><td>364776</td><td>2</td></tr><tr><td>364776</td><td>2</td></tr></tbody></table></div>"
      ],
      "text/plain": [
       "shape: (9_000_000, 2)\n",
       "┌────────┬────────────────┐\n",
       "│ ip     ┆ total_sessions │\n",
       "│ ---    ┆ ---            │\n",
       "│ u32    ┆ u32            │\n",
       "╞════════╪════════════════╡\n",
       "│ 1      ┆ 1              │\n",
       "│ 5      ┆ 1              │\n",
       "│ 6      ┆ 34             │\n",
       "│ 6      ┆ 34             │\n",
       "│ 6      ┆ 34             │\n",
       "│ …      ┆ …              │\n",
       "│ 364773 ┆ 2              │\n",
       "│ 364773 ┆ 2              │\n",
       "│ 364775 ┆ 1              │\n",
       "│ 364776 ┆ 2              │\n",
       "│ 364776 ┆ 2              │\n",
       "└────────┴────────────────┘"
      ]
     },
     "metadata": {},
     "output_type": "display_data"
    },
    {
     "name": "stdout",
     "output_type": "stream",
     "text": [
      "\n",
      "Total grouped sessions descriptives\n"
     ]
    },
    {
     "data": {
      "text/html": [
       "<div><style>\n",
       ".dataframe > thead > tr,\n",
       ".dataframe > tbody > tr {\n",
       "  text-align: right;\n",
       "  white-space: pre-wrap;\n",
       "}\n",
       "</style>\n",
       "<small>shape: (9, 2)</small><table border=\"1\" class=\"dataframe\"><thead><tr><th>statistic</th><th>total_sessions</th></tr><tr><td>str</td><td>f64</td></tr></thead><tbody><tr><td>&quot;count&quot;</td><td>143232.0</td></tr><tr><td>&quot;null_count&quot;</td><td>0.0</td></tr><tr><td>&quot;mean&quot;</td><td>16.344965</td></tr><tr><td>&quot;std&quot;</td><td>22.239907</td></tr><tr><td>&quot;min&quot;</td><td>1.0</td></tr><tr><td>&quot;25%&quot;</td><td>1.0</td></tr><tr><td>&quot;50%&quot;</td><td>4.0</td></tr><tr><td>&quot;75%&quot;</td><td>23.0</td></tr><tr><td>&quot;max&quot;</td><td>97.0</td></tr></tbody></table></div>"
      ],
      "text/plain": [
       "shape: (9, 2)\n",
       "┌────────────┬────────────────┐\n",
       "│ statistic  ┆ total_sessions │\n",
       "│ ---        ┆ ---            │\n",
       "│ str        ┆ f64            │\n",
       "╞════════════╪════════════════╡\n",
       "│ count      ┆ 143232.0       │\n",
       "│ null_count ┆ 0.0            │\n",
       "│ mean       ┆ 16.344965      │\n",
       "│ std        ┆ 22.239907      │\n",
       "│ min        ┆ 1.0            │\n",
       "│ 25%        ┆ 1.0            │\n",
       "│ 50%        ┆ 4.0            │\n",
       "│ 75%        ┆ 23.0           │\n",
       "│ max        ┆ 97.0           │\n",
       "└────────────┴────────────────┘"
      ]
     },
     "metadata": {},
     "output_type": "display_data"
    }
   ],
   "source": [
    "print(\"Total sessions\")\n",
    "total_sessions = previous_sessions.select(S.ip, pl.max(E.previous_sessions).over(S.ip).alias('total_sessions')).with_columns(pl.col('total_sessions').add(1))\n",
    "display(total_sessions)\n",
    "print()\n",
    "\n",
    "total_sessions_grouped = total_sessions.unique(maintain_order=True)\n",
    "print(\"Total grouped sessions descriptives\")\n",
    "display(total_sessions_grouped.drop(S.ip).describe())"
   ]
  },
  {
   "cell_type": "markdown",
   "id": "ea327580",
   "metadata": {},
   "source": [
    "<b>VALUABLE INSIGHT</b><br>Only 25% of IPs had one session."
   ]
  },
  {
   "cell_type": "code",
   "execution_count": 14,
   "id": "74dba050",
   "metadata": {},
   "outputs": [
    {
     "name": "stdout",
     "output_type": "stream",
     "text": [
      "max_total_sessions = 97\n",
      "ip_with_max_total_sessions = 173152\n"
     ]
    },
    {
     "data": {
      "text/html": [
       "<div><style>\n",
       ".dataframe > thead > tr,\n",
       ".dataframe > tbody > tr {\n",
       "  text-align: right;\n",
       "  white-space: pre-wrap;\n",
       "}\n",
       "</style>\n",
       "<small>shape: (1, 2)</small><table border=\"1\" class=\"dataframe\"><thead><tr><th>min_date</th><th>max_date</th></tr><tr><td>datetime[ms]</td><td>datetime[ms]</td></tr></thead><tbody><tr><td>2017-11-06 16:10:57</td><td>2017-11-09 10:17:20</td></tr></tbody></table></div>"
      ],
      "text/plain": [
       "shape: (1, 2)\n",
       "┌─────────────────────┬─────────────────────┐\n",
       "│ min_date            ┆ max_date            │\n",
       "│ ---                 ┆ ---                 │\n",
       "│ datetime[ms]        ┆ datetime[ms]        │\n",
       "╞═════════════════════╪═════════════════════╡\n",
       "│ 2017-11-06 16:10:57 ┆ 2017-11-09 10:17:20 │\n",
       "└─────────────────────┴─────────────────────┘"
      ]
     },
     "execution_count": 14,
     "metadata": {},
     "output_type": "execute_result"
    }
   ],
   "source": [
    "max_total_sessions: int = (\n",
    "  total_sessions\n",
    "  .drop(S.ip)\n",
    "  .describe()\n",
    "  .filter(pl.col(\"statistic\").eq(\"max\"))[E.total_sessions]\n",
    "  .cast(int)[0]\n",
    ")\n",
    "print(f\"{max_total_sessions = }\")\n",
    "\n",
    "ip_with_max_total_sessions: int = total_sessions.filter(pl.col(E.total_sessions).eq(max_total_sessions))[S.ip][0]\n",
    "print(f\"{ip_with_max_total_sessions = }\")\n",
    "\n",
    "(train\n",
    " .filter(pl.col(S.ip).eq(ip_with_max_total_sessions))\n",
    " .select(\n",
    "     pl.col(S.click_time).min().alias(\"min_date\"), \n",
    "     pl.col(S.click_time).max().alias(\"max_date\"), \n",
    "  )\n",
    ")"
   ]
  },
  {
   "cell_type": "code",
   "execution_count": 15,
   "id": "2f6c4546",
   "metadata": {},
   "outputs": [
    {
     "name": "stdout",
     "output_type": "stream",
     "text": [
      "Label for IPs with 50 or more sessions\n"
     ]
    },
    {
     "data": {
      "text/html": [
       "<div><style>\n",
       ".dataframe > thead > tr,\n",
       ".dataframe > tbody > tr {\n",
       "  text-align: right;\n",
       "  white-space: pre-wrap;\n",
       "}\n",
       "</style>\n",
       "<small>shape: (17_549, 3)</small><table border=\"1\" class=\"dataframe\"><thead><tr><th>ip</th><th>true</th><th>false</th></tr><tr><td>u32</td><td>u32</td><td>u32</td></tr></thead><tbody><tr><td>9</td><td>1</td><td>203</td></tr><tr><td>20</td><td>1</td><td>251</td></tr><tr><td>27</td><td>0</td><td>258</td></tr><tr><td>36</td><td>1</td><td>316</td></tr><tr><td>45</td><td>1</td><td>214</td></tr><tr><td>&hellip;</td><td>&hellip;</td><td>&hellip;</td></tr><tr><td>280280</td><td>2</td><td>172</td></tr><tr><td>280605</td><td>1</td><td>175</td></tr><tr><td>280918</td><td>2</td><td>299</td></tr><tr><td>283187</td><td>0</td><td>116</td></tr><tr><td>283787</td><td>1</td><td>144</td></tr></tbody></table></div>"
      ],
      "text/plain": [
       "shape: (17_549, 3)\n",
       "┌────────┬──────┬───────┐\n",
       "│ ip     ┆ true ┆ false │\n",
       "│ ---    ┆ ---  ┆ ---   │\n",
       "│ u32    ┆ u32  ┆ u32   │\n",
       "╞════════╪══════╪═══════╡\n",
       "│ 9      ┆ 1    ┆ 203   │\n",
       "│ 20     ┆ 1    ┆ 251   │\n",
       "│ 27     ┆ 0    ┆ 258   │\n",
       "│ 36     ┆ 1    ┆ 316   │\n",
       "│ 45     ┆ 1    ┆ 214   │\n",
       "│ …      ┆ …    ┆ …     │\n",
       "│ 280280 ┆ 2    ┆ 172   │\n",
       "│ 280605 ┆ 1    ┆ 175   │\n",
       "│ 280918 ┆ 2    ┆ 299   │\n",
       "│ 283187 ┆ 0    ┆ 116   │\n",
       "│ 283787 ┆ 1    ┆ 144   │\n",
       "└────────┴──────┴───────┘"
      ]
     },
     "metadata": {},
     "output_type": "display_data"
    },
    {
     "name": "stdout",
     "output_type": "stream",
     "text": [
      "\n",
      "Label descriptives for IPs with 50 or more sessions\n"
     ]
    },
    {
     "data": {
      "text/html": [
       "<div><style>\n",
       ".dataframe > thead > tr,\n",
       ".dataframe > tbody > tr {\n",
       "  text-align: right;\n",
       "  white-space: pre-wrap;\n",
       "}\n",
       "</style>\n",
       "<small>shape: (9, 4)</small><table border=\"1\" class=\"dataframe\"><thead><tr><th>statistic</th><th>ip</th><th>true</th><th>false</th></tr><tr><td>str</td><td>f64</td><td>f64</td><td>f64</td></tr></thead><tbody><tr><td>&quot;count&quot;</td><td>17549.0</td><td>17549.0</td><td>17549.0</td></tr><tr><td>&quot;null_count&quot;</td><td>0.0</td><td>0.0</td><td>0.0</td></tr><tr><td>&quot;mean&quot;</td><td>82148.901077</td><td>0.646305</td><td>258.570688</td></tr><tr><td>&quot;std&quot;</td><td>54040.203138</td><td>0.919163</td><td>168.442117</td></tr><tr><td>&quot;min&quot;</td><td>9.0</td><td>0.0</td><td>69.0</td></tr><tr><td>&quot;25%&quot;</td><td>37828.0</td><td>0.0</td><td>147.0</td></tr><tr><td>&quot;50%&quot;</td><td>76791.0</td><td>0.0</td><td>197.0</td></tr><tr><td>&quot;75%&quot;</td><td>114632.0</td><td>1.0</td><td>299.0</td></tr><tr><td>&quot;max&quot;</td><td>283787.0</td><td>7.0</td><td>1159.0</td></tr></tbody></table></div>"
      ],
      "text/plain": [
       "shape: (9, 4)\n",
       "┌────────────┬──────────────┬──────────┬────────────┐\n",
       "│ statistic  ┆ ip           ┆ true     ┆ false      │\n",
       "│ ---        ┆ ---          ┆ ---      ┆ ---        │\n",
       "│ str        ┆ f64          ┆ f64      ┆ f64        │\n",
       "╞════════════╪══════════════╪══════════╪════════════╡\n",
       "│ count      ┆ 17549.0      ┆ 17549.0  ┆ 17549.0    │\n",
       "│ null_count ┆ 0.0          ┆ 0.0      ┆ 0.0        │\n",
       "│ mean       ┆ 82148.901077 ┆ 0.646305 ┆ 258.570688 │\n",
       "│ std        ┆ 54040.203138 ┆ 0.919163 ┆ 168.442117 │\n",
       "│ min        ┆ 9.0          ┆ 0.0      ┆ 69.0       │\n",
       "│ 25%        ┆ 37828.0      ┆ 0.0      ┆ 147.0      │\n",
       "│ 50%        ┆ 76791.0      ┆ 0.0      ┆ 197.0      │\n",
       "│ 75%        ┆ 114632.0     ┆ 1.0      ┆ 299.0      │\n",
       "│ max        ┆ 283787.0     ┆ 7.0      ┆ 1159.0     │\n",
       "└────────────┴──────────────┴──────────┴────────────┘"
      ]
     },
     "metadata": {},
     "output_type": "display_data"
    }
   ],
   "source": [
    "high_session_threshold = 50\n",
    "\n",
    "high_session_ips_per_label = (\n",
    " total_sessions\n",
    " .hstack(train.select(S.label()))\n",
    " .filter(pl.col(E.total_sessions).ge(high_session_threshold))\n",
    " .group_by(S.ip, maintain_order=True)\n",
    " .agg(pl.col(S.label()).value_counts())\n",
    " .explode(S.label())\n",
    " .unnest(S.label())\n",
    " .pivot(index=S.ip, values='count', on=S.label())\n",
    " .select(S.ip, 'true', 'false') # always make `true`` column first\n",
    " .fill_null(0)\n",
    " )\n",
    "print(f\"Label for IPs with {high_session_threshold} or more sessions\")\n",
    "display(high_session_ips_per_label)\n",
    "print()\n",
    "\n",
    "print(f\"Label descriptives for IPs with {high_session_threshold} or more sessions\")\n",
    "display(high_session_ips_per_label.describe())"
   ]
  },
  {
   "cell_type": "markdown",
   "id": "daed5952",
   "metadata": {},
   "source": [
    "<b>VALUABLE INSIGHT</b><br>IPs with 50 or more total sessions usually do not download according to the median. This analysis is partly complete because it only looks at (`ip`, `total_session`) pairs and does not include `app`. Thus, IPs with none downloads and high session could be bots or users that do not care about advertisments products*. It could be some users stubbornly avoid downloading a particular particular app, but they are willing to download some other application.\n",
    "4th quarter IPs downloaded between 2 and 7 times.\n",
    "\n",
    "\\* When gaming, watching an add will give you in-game benefits, so this could explain why someone has a lot of sessions in this short time period, given the fact you could gain some perks every 15 minutes in a particular game.\n"
   ]
  },
  {
   "cell_type": "code",
   "execution_count": 16,
   "id": "d1d6cd08",
   "metadata": {},
   "outputs": [
    {
     "name": "stdout",
     "output_type": "stream",
     "text": [
      "size_high_session_ips = 17549\n",
      "size_high_session_ips_rel = 0.1225\n",
      "\n",
      "size_high_session_downloads = 4548999\n",
      "size_high_session_downloads_rel = 0.5054\n"
     ]
    }
   ],
   "source": [
    "size_high_session_ips = len(high_session_ips_per_label)\n",
    "print(f\"{size_high_session_ips = }\")\n",
    "\n",
    "size_high_session_ips_rel = round(size_high_session_ips / len(train.select(S.ip).unique()), 4)\n",
    "print(f\"{size_high_session_ips_rel = }\")\n",
    "print()\n",
    "\n",
    "size_high_session_downloads = len(total_sessions.filter(pl.col(E.total_sessions).ge(high_session_threshold)))\n",
    "print(f\"{size_high_session_downloads = }\")\n",
    "\n",
    "size_high_session_downloads_rel = round(size_high_session_downloads / len(total_sessions), 4)\n",
    "print(f\"{size_high_session_downloads_rel = }\")"
   ]
  },
  {
   "cell_type": "markdown",
   "id": "c3781b49",
   "metadata": {},
   "source": [
    "<b>VALUABLE INSIGHT</b><br>There are <b>12.25%</b> IPs with total sessions of 50 or more, however such IPs contribute to <b>50.54%</b> of the total application downloads. "
   ]
  },
  {
   "cell_type": "code",
   "execution_count": 17,
   "id": "8e63bb82",
   "metadata": {},
   "outputs": [],
   "source": [
    "train_extended = (train_extended\n",
    " .hstack(total_sessions.drop(S.ip))\n",
    " .select(\n",
    "     pl.all()\n",
    "     .exclude(S.attributed_time, S.label()), \n",
    "     S.attributed_time, \n",
    "     S.label()\n",
    " )\n",
    ")"
   ]
  }
 ],
 "metadata": {
  "kernelspec": {
   "display_name": "adtracking-fraud-detection",
   "language": "python",
   "name": "python3"
  },
  "language_info": {
   "codemirror_mode": {
    "name": "ipython",
    "version": 3
   },
   "file_extension": ".py",
   "mimetype": "text/x-python",
   "name": "python",
   "nbconvert_exporter": "python",
   "pygments_lexer": "ipython3",
   "version": "3.13.3"
  }
 },
 "nbformat": 4,
 "nbformat_minor": 5
}
